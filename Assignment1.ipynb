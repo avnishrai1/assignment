{
 "cells": [
  {
   "cell_type": "code",
   "execution_count": 15,
   "id": "216005f6-2df3-46dd-95ac-c208aef3905f",
   "metadata": {
    "collapsed": true,
    "jupyter": {
     "outputs_hidden": true
    },
    "tags": []
   },
   "outputs": [
    {
     "name": "stdout",
     "output_type": "stream",
     "text": [
      "0\n",
      "1\n",
      "2\n",
      "3\n",
      "4\n",
      "5\n",
      "6\n",
      "7\n",
      "8\n",
      "9\n",
      "10\n",
      "0\n",
      "1\n",
      "2\n",
      "3\n",
      "4\n",
      "5\n",
      "6\n",
      "7\n",
      "8\n",
      "9\n",
      "10\n"
     ]
    }
   ],
   "source": [
    "#Explain with an example each when to use a for loop and a while loop.\n",
    "#    for statement iterates through a collection or iterable object or generator function\n",
    "#    while statement simply loops until a condition is False\n",
    "for i in range(11):\n",
    "    print(i)\n",
    "    \n",
    "\n",
    "j = 0\n",
    "while j <= 10:\n",
    "    print(j)\n",
    "    j = j + 1"
   ]
  },
  {
   "cell_type": "code",
   "execution_count": 13,
   "id": "38cddfc3-bdbe-410d-9a93-bcef1c0b67b9",
   "metadata": {},
   "outputs": [
    {
     "name": "stdout",
     "output_type": "stream",
     "text": [
      "55\n"
     ]
    }
   ],
   "source": [
    "#Q2. Write a python program to print the sum and product of the first 10 natural numbers using for\n",
    "#     and while loop.\n",
    "#For sum in while loop\n",
    "n = 10\n",
    "sum = 0\n",
    "start = 1\n",
    "while start <= n :\n",
    "    sum = sum + start \n",
    "    start = start + 1\n",
    "print(sum)\n"
   ]
  },
  {
   "cell_type": "code",
   "execution_count": 11,
   "id": "6901d3c9-7650-4212-b3f7-360d1ad7e320",
   "metadata": {},
   "outputs": [
    {
     "data": {
      "text/plain": [
       "55"
      ]
     },
     "execution_count": 11,
     "metadata": {},
     "output_type": "execute_result"
    }
   ],
   "source": [
    "#for sum in for loop\n",
    "sum = 0\n",
    "start = 1\n",
    "for i in range(10):\n",
    "    sum = sum + start \n",
    "    start = start + 1\n",
    "print(sum)"
   ]
  },
  {
   "cell_type": "code",
   "execution_count": 12,
   "id": "0f179f76-2ac6-45b5-b0f7-bd92399ec161",
   "metadata": {},
   "outputs": [
    {
     "data": {
      "text/plain": [
       "3628800"
      ]
     },
     "execution_count": 12,
     "metadata": {},
     "output_type": "execute_result"
    }
   ],
   "source": [
    "#for product in while loop\n",
    "number = 10\n",
    "factorial = 1\n",
    "while number > 0 :\n",
    "    factorial = factorial*number\n",
    "    number = number - 1 \n",
    "    factorial\n",
    "print(factorial)"
   ]
  },
  {
   "cell_type": "code",
   "execution_count": 14,
   "id": "b5fda772-5238-4f4c-88e0-bda2a3439383",
   "metadata": {},
   "outputs": [
    {
     "name": "stdout",
     "output_type": "stream",
     "text": [
      "3628800\n"
     ]
    }
   ],
   "source": [
    "#for product in for loop\n",
    "number = 10\n",
    "factorial = 1\n",
    "for a in range(10) :\n",
    "    factorial = factorial*number\n",
    "    number = number - 1 \n",
    "    factorial\n",
    "print(factorial)"
   ]
  },
  {
   "cell_type": "code",
   "execution_count": 20,
   "id": "22b08bc3-8ac4-4ebd-96ab-0365f17f6408",
   "metadata": {},
   "outputs": [
    {
     "name": "stdin",
     "output_type": "stream",
     "text": [
      "Enter the units of electricity :  310\n"
     ]
    },
    {
     "name": "stdout",
     "output_type": "stream",
     "text": [
      "2250.0\n"
     ]
    }
   ],
   "source": [
    "#Q3. Create a python program to compute the electricity bill for a household.\n",
    "#    The per-unit charges in rupees are as follows: For the first 100 units, the user will be charged Rs. 4.5 per\n",
    "#    unit, for the next 100 units, the user will be charged Rs. 6 per unit, and for the next 100 units, the user will\n",
    "#    be charged Rs. 10 per unit, After 300 units and above the user will be charged Rs. 20 per unit.\n",
    "\n",
    "unit = int(input(\"Enter the units of electricity : \"))\n",
    "if unit <= 100 :\n",
    "    bill = unit * 4.5\n",
    "    print(bill)\n",
    "elif unit > 100 and unit <=200 :\n",
    "    bill = (100 *4.5) + ((unit-100) * 6)\n",
    "    print(bill)\n",
    "elif unit > 200 and unit <=300 :\n",
    "    bill = (100 *4.5) + (100 * 6) + ((unit-200) * 10)\n",
    "    print(bill)\n",
    "elif unit > 300 :\n",
    "    bill = (100 *4.5) + (100 * 6) + (100 * 10) + ((unit-300) * 20)\n",
    "    print(bill)"
   ]
  },
  {
   "cell_type": "code",
   "execution_count": 46,
   "id": "8823b055-224e-4c8b-b6bd-ab2cf619df6c",
   "metadata": {},
   "outputs": [
    {
     "name": "stdout",
     "output_type": "stream",
     "text": [
      "[2, 4, 5, 6, 8, 10, 12, 14, 15, 16, 18, 20, 22, 24, 25, 26, 28, 30, 32, 34, 35, 36, 38, 40, 42, 44, 45, 46, 48, 50, 52, 54, 55, 56, 58, 60, 62, 64, 65, 66, 68, 70, 72, 74, 75, 76, 78, 80, 82, 84, 85, 86, 88, 90, 92, 94, 95, 96, 98, 100]\n"
     ]
    }
   ],
   "source": [
    "#Q4. Create a list of numbers from 1 to 100. Use for loop and while loop to calculate the cube of each\n",
    "#    number and if the cube of that number is divisible by 4 or 5 then append that number in a list and print\n",
    "#    that list.\n",
    "#Using for loop\n",
    "number = []\n",
    "for num in range(1, 101):\n",
    "    cube = num*num*num\n",
    "    if cube % 4 == 0 or cube % 5 == 0:\n",
    "        number.append(num)\n",
    "print(number)\n",
    "\n",
    "\n"
   ]
  },
  {
   "cell_type": "code",
   "execution_count": 47,
   "id": "368578e5-b34c-42ef-a5af-f257505ea391",
   "metadata": {},
   "outputs": [
    {
     "name": "stdout",
     "output_type": "stream",
     "text": [
      "[2, 4, 5, 6, 8, 10, 12, 14, 15, 16, 18, 20, 22, 24, 25, 26, 28, 30, 32, 34, 35, 36, 38, 40, 42, 44, 45, 46, 48, 50, 52, 54, 55, 56, 58, 60, 62, 64, 65, 66, 68, 70, 72, 74, 75, 76, 78, 80, 82, 84, 85, 86, 88, 90, 92, 94, 95, 96, 98, 100]\n"
     ]
    }
   ],
   "source": [
    "# Using while loop\n",
    "avnish = []\n",
    "num = 1\n",
    "while num <= 100:\n",
    "    cube = num*num*num\n",
    "    if cube % 4 == 0 or cube % 5 == 0:\n",
    "        avnish.append(num)\n",
    "    num = num + 1\n",
    "\n",
    "print(avnish)\n"
   ]
  },
  {
   "cell_type": "code",
   "execution_count": 50,
   "id": "c4a5b9e7-db9b-4497-9291-1efd29079392",
   "metadata": {},
   "outputs": [
    {
     "name": "stdout",
     "output_type": "stream",
     "text": [
      "Total numbers of Vowels Count :  12\n"
     ]
    }
   ],
   "source": [
    "#   Write a program to filter count vowels in the below-given string.\n",
    "#   string = \"I want to become a data scientist\"\n",
    "\n",
    "string = \"I want to become a data scientist\"\n",
    "vowel = 0\n",
    "for avnish in string :\n",
    "    if avnish in \"AEIOUaeiou\":\n",
    "        vowel = vowel + 1\n",
    "print(\"Total numbers of Vowels Count : \",vowel)\n",
    "\n"
   ]
  },
  {
   "cell_type": "code",
   "execution_count": null,
   "id": "4a3892ec-e5d4-4fff-b437-4beb01e12827",
   "metadata": {},
   "outputs": [],
   "source": []
  }
 ],
 "metadata": {
  "kernelspec": {
   "display_name": "Python 3 (ipykernel)",
   "language": "python",
   "name": "python3"
  },
  "language_info": {
   "codemirror_mode": {
    "name": "ipython",
    "version": 3
   },
   "file_extension": ".py",
   "mimetype": "text/x-python",
   "name": "python",
   "nbconvert_exporter": "python",
   "pygments_lexer": "ipython3",
   "version": "3.10.8"
  }
 },
 "nbformat": 4,
 "nbformat_minor": 5
}
