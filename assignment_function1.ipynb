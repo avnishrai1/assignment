{
 "cells": [
  {
   "cell_type": "code",
   "execution_count": 2,
   "id": "8e18a868-6c66-42e8-b506-8ac8fa686220",
   "metadata": {},
   "outputs": [
    {
     "name": "stdout",
     "output_type": "stream",
     "text": [
      "('Virat Kohli', 24936)\n",
      "('Jack Kallis', 25534)\n",
      "('Ricky Ponting', 27483)\n",
      "('Sachin Tendulkar', 34357)\n"
     ]
    }
   ],
   "source": [
    "\"\"\"\n",
    "Q1. Create a python program to sort the given list of tuples based on integer value using a\n",
    "lambda function.\n",
    "[('Sachin Tendulkar', 34357), ('Ricky Ponting', 27483), ('Jack Kallis', 25534), ('Virat Kohli', 24936)] \n",
    "\"\"\"\n",
    "\n",
    "avnish = [('Sachin Tendulkar', 34357), ('Ricky Ponting', 27483), ('Jack Kallis', 25534), ('Virat Kohli', 24936)]\n",
    "\n",
    "sort = sorted(avnish, key=lambda x: x[1])\n",
    "\n",
    "for a in sort:\n",
    "    print(a)\n"
   ]
  },
  {
   "cell_type": "code",
   "execution_count": 3,
   "id": "418f3e4d-65e6-4f12-90fc-7a82942c490c",
   "metadata": {},
   "outputs": [
    {
     "name": "stdout",
     "output_type": "stream",
     "text": [
      "[1, 4, 9, 16, 25, 36, 49, 64, 81, 100]\n"
     ]
    }
   ],
   "source": [
    "\"\"\"\n",
    "Q2. Write a Python Program to find the squares of all the numbers in the given list of integers using\n",
    "lambda and map functions.\n",
    "[1, 2, 3, 4, 5, 6, 7, 8, 9, 10]\n",
    "\"\"\"\n",
    "avnish = [1, 2, 3, 4, 5, 6, 7, 8, 9, 10]\n",
    "\n",
    "output = list(map(lambda x : x**2, avnish))\n",
    "print(output)\n"
   ]
  },
  {
   "cell_type": "code",
   "execution_count": 4,
   "id": "61ce098b-afb5-4754-b615-8d129b4b0e4a",
   "metadata": {},
   "outputs": [
    {
     "name": "stdout",
     "output_type": "stream",
     "text": [
      "('1', '2', '3', '4', '5', '6', '7', '8', '9', '10')\n"
     ]
    }
   ],
   "source": [
    "\"\"\"\n",
    "Q3. Write a python program to convert the given list of integers into a tuple of strings. Use map and\n",
    "lambda functions\n",
    "Given String: [1, 2, 3, 4, 5, 6, 7, 8, 9, 10]\n",
    "Expected output: ('1', '2', '3', '4', '5', '6', '7', '8', '9', '10')\n",
    "\"\"\"\n",
    "\n",
    "avnish = [1, 2, 3, 4, 5, 6, 7, 8, 9, 10]\n",
    "\n",
    "output = tuple(map(lambda x : str(x), avnish))\n",
    "print(output)\n"
   ]
  },
  {
   "cell_type": "code",
   "execution_count": 5,
   "id": "0cb9ae7f-25f9-4b79-8e2c-162f7c3c1324",
   "metadata": {},
   "outputs": [
    {
     "name": "stdout",
     "output_type": "stream",
     "text": [
      "15511210043330985984000000\n"
     ]
    }
   ],
   "source": [
    "\"\"\"\n",
    "Q4. Write a python program using reduce function to compute the product of a list containing numbers\n",
    "from 1 to 25.\n",
    "\"\"\"\n",
    "\n",
    "from functools import reduce\n",
    "\n",
    "avnish = list(range(1,26))\n",
    "output = reduce(lambda a,b : a*b, avnish)\n",
    "\n",
    "print(output)"
   ]
  },
  {
   "cell_type": "code",
   "execution_count": 6,
   "id": "29410286-3b42-47d5-9c71-832fe64f2034",
   "metadata": {},
   "outputs": [
    {
     "name": "stdout",
     "output_type": "stream",
     "text": [
      "[6, 60, 90, 120]\n"
     ]
    }
   ],
   "source": [
    "\"\"\"\n",
    "Q5. Write a python program to filter the numbers in a given list that are divisible by 2 and 3 using the\n",
    "filter function.\n",
    "[2, 3, 6, 9, 27, 60, 90, 120, 55, 46]\n",
    "\"\"\"\n",
    "\n",
    "avnish = [2, 3, 6, 9, 27, 60, 90, 120, 55, 46]\n",
    "\n",
    "output = list(filter(lambda a : a % 2 == 0 and a % 3 == 0, avnish))\n",
    "print(output)"
   ]
  },
  {
   "cell_type": "code",
   "execution_count": 7,
   "id": "2524b045-eacc-4d5e-8132-e851558d06e1",
   "metadata": {},
   "outputs": [
    {
     "name": "stdout",
     "output_type": "stream",
     "text": [
      "['php', 'aba', 'radar', 'level']\n"
     ]
    }
   ],
   "source": [
    "\"\"\"\n",
    "Q6. Write a python program to find palindromes in the given list of strings using lambda and filter\n",
    "function.\n",
    "['python', 'php', 'aba', 'radar', 'level']\n",
    "\"\"\"\n",
    "\n",
    "avnish = ['python', 'php', 'aba', 'radar', 'level']\n",
    "\n",
    "output = list(filter(lambda x : x == x[::-1], avnish))\n",
    "print(output)"
   ]
  },
  {
   "cell_type": "code",
   "execution_count": null,
   "id": "e5121e89-8af9-4e83-9076-1582feddd4dd",
   "metadata": {},
   "outputs": [],
   "source": []
  }
 ],
 "metadata": {
  "kernelspec": {
   "display_name": "Python 3 (ipykernel)",
   "language": "python",
   "name": "python3"
  },
  "language_info": {
   "codemirror_mode": {
    "name": "ipython",
    "version": 3
   },
   "file_extension": ".py",
   "mimetype": "text/x-python",
   "name": "python",
   "nbconvert_exporter": "python",
   "pygments_lexer": "ipython3",
   "version": "3.10.8"
  }
 },
 "nbformat": 4,
 "nbformat_minor": 5
}
