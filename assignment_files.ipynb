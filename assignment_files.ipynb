{
 "cells": [
  {
   "cell_type": "code",
   "execution_count": null,
   "id": "dd52cefc-2e00-4f63-84ad-ce2f8b160396",
   "metadata": {},
   "outputs": [],
   "source": [
    "\"\"\"\n",
    "Q1. Which function is used to open a file? What are the different modes of opening a file? Explain each mode of file opening.\n",
    "\n",
    "Ans. In Python, the open() function is used to open a file. It is the primary method for interacting with filesin Python and \n",
    "     allows you to perform various operations such as reading, writing, and appending to files.\n",
    "     \"r\": Read mode. Opens the file for reading. The file must exist; otherwise, an error is raised.\n",
    "\n",
    "1. \"w\": Write mode. Opens the file for writing. If the file exists, it is truncated (emptied). If the file doesn't exist, a new file is \n",
    "    created.\n",
    "\n",
    "2. \"a\": Append mode. Opens the file for appending new content at the end. If the file doesn't exist, a new file is created.\n",
    "\n",
    "3. \"x\": Exclusive creation mode. Creates a new file for writing, but raises an error if the file already exists.\n",
    "\n",
    "4. \"b\": Binary mode. Used in conjunction with other modes to open the file in binary format, which is suitable for handling non-text files \n",
    "    like images, videos, etc.\n",
    "\n",
    "5. \"t\": Text mode. Used in conjunction with other modes to open the file in text format. This is the default mode if not specified.\n",
    "\n",
    "6. \"+\": Read and write mode. Allows both reading and writing to the file. It can be combined with other modes, such as \"r+\", \"w+\", or \"a+\".\n",
    "   These modes can be combined by specifying multiple characters together. For example, \"rb\" is used for opening a file in binary read mode.\n",
    "\"\"\"\n",
    "# Read mode\n",
    "file = open(\"test.txt\", \"r\")\n",
    "\n",
    "# Write mode\n",
    "file = open(\"test.txt\", \"w\")\n",
    "\n",
    "# Append mode\n",
    "file = open(\"test.txt\", \"a\")\n",
    "\n",
    "# Binary mode\n",
    "file = open(\"test.txt\", \"rb\")\n",
    "\n",
    "# Read and write mode\n",
    "file = open(\"test.txt\", \"r+\")\n"
   ]
  },
  {
   "cell_type": "code",
   "execution_count": null,
   "id": "b11483be-bcee-457a-a0fd-003a7cb7d0aa",
   "metadata": {},
   "outputs": [],
   "source": [
    "\"\"\"\n",
    "Q2. Why close() function is used? Why is it important to close a file?\n",
    "\n",
    "Ans. The close() function or method in Python is used to close a file after it has been opened and used for reading or writing operations. \n",
    "     It is important to close a file for the following reasons:\n",
    "  1. Resource Management\n",
    "  2. Data Integrity\n",
    "  3. Avoiding File Locking\n",
    "\"\"\"\n",
    "f = open(\"test.txt\", \"r\")\n",
    "\n",
    "f.close()\n",
    "\n",
    "with open(\"test.txt\", \"r\") as f:"
   ]
  },
  {
   "cell_type": "code",
   "execution_count": 9,
   "id": "3efb16e0-501d-4ca6-a22d-d0528a8fe4ef",
   "metadata": {},
   "outputs": [
    {
     "name": "stdout",
     "output_type": "stream",
     "text": [
      "I want to become a Data Scientist\n"
     ]
    }
   ],
   "source": [
    "\"\"\"\n",
    "Q3. Write a python program to create a text file. Write ‘I want to become a Data Scientist’ in that file. Then close the file. Open this\n",
    "    file and read the content of the file.\n",
    "\"\"\"\n",
    "\n",
    "f = \"test.txt\"\n",
    "\n",
    "with open(f, \"w\") as file:\n",
    "    file.write(\"I want to become a Data Scientist\")\n",
    "\n",
    "\n",
    "with open(f, \"r\") as file:\n",
    "    content = file.read()\n",
    "\n",
    "\n",
    "print(content)"
   ]
  },
  {
   "cell_type": "code",
   "execution_count": null,
   "id": "dd70aa4f-6d55-4a4b-921c-f97703a5e35c",
   "metadata": {},
   "outputs": [],
   "source": [
    "\"\"\"\n",
    "Q4. Explain the following with python code: read(), readline() and readlines().\n",
    "\"\"\""
   ]
  },
  {
   "cell_type": "code",
   "execution_count": null,
   "id": "51809b61-2337-45bf-beb4-26d6179172dd",
   "metadata": {},
   "outputs": [],
   "source": [
    "#Example of read()\n",
    "\n",
    "f = \"test.txt\"\n",
    "with open(f, \"r\") as file:\n",
    "    content = file.read()\n",
    "    print(content)"
   ]
  },
  {
   "cell_type": "code",
   "execution_count": null,
   "id": "df121e01-9511-426c-a285-e231be3f77b9",
   "metadata": {},
   "outputs": [],
   "source": [
    "# Example of readline()\n",
    "\n",
    "f = \"test.txt\"\n",
    "with open(f, \"r\") as file:\n",
    "    line1 = file.readline()\n",
    "    line2 = file.readline()\n",
    "    print(line1)\n",
    "    print(line2)\n"
   ]
  },
  {
   "cell_type": "code",
   "execution_count": null,
   "id": "bcd29d20-ef7d-4b38-90c1-cf69c8f94a20",
   "metadata": {},
   "outputs": [],
   "source": [
    "# Example f readlines()\n",
    "\n",
    "f = \"test.txt\"\n",
    "with open(f, \"r\") as file:\n",
    "    lines = file.readlines()\n",
    "    for line in lines:\n",
    "        print(line)"
   ]
  },
  {
   "cell_type": "code",
   "execution_count": null,
   "id": "ec1d04cc-f757-4925-a1f6-cac86ad3f6e4",
   "metadata": {},
   "outputs": [],
   "source": [
    "\"\"\"\n",
    "Q5. Explain why with statement is used with open(). What is the advantage of using with statement and\n",
    "open() together?\n",
    "\n",
    "Ans. The with statement in Python is used in conjunction with the open() function when working with files. The with statement provides a \n",
    "     clean and efficient way to handle file operations and ensures that the file is properly closed after use. Here are the advantages of \n",
    "     using the with statement with open():\n",
    "     \n",
    "   1. Automatic resource management\n",
    "   2. Exception handling\n",
    "   3. Simplified code structure\n",
    "   4. Context management\n",
    "\"\"\""
   ]
  },
  {
   "cell_type": "code",
   "execution_count": null,
   "id": "214828b7-2d65-4649-b701-7eaa403262dc",
   "metadata": {},
   "outputs": [],
   "source": [
    "\"\"\"\n",
    "Q6. Explain the write() and writelines() functions. Give a suitable example.\n",
    "\n",
    "Ans. write(): This function is used to write a string or a sequence of characters to a file. It appends the content to the existing file or \n",
    "              creates a new file if it doesn't exist. \n",
    "              \n",
    "    writelines(): This function is used to write a sequence of strings to a file. It writes each string as a separate line in the file.\n",
    "\"\"\""
   ]
  },
  {
   "cell_type": "code",
   "execution_count": null,
   "id": "3f4526b8-60fd-4594-a5a5-ca3c49a18b4d",
   "metadata": {},
   "outputs": [],
   "source": [
    "# Example using write()\n",
    "\n",
    "f = \"test.txt\"\n",
    "with open(f, \"w\") as file:\n",
    "    file.write(\"Avnis\\n\")\n",
    "    file.write(\"This is an example.\")"
   ]
  },
  {
   "cell_type": "code",
   "execution_count": 10,
   "id": "06a183dc-43d8-4cca-951a-93e3b85b2108",
   "metadata": {},
   "outputs": [],
   "source": [
    "# Example using writelines()\n",
    "\n",
    "f = \"test.txt\"\n",
    "lines = [\"Line 1\\n\", \"Line 2\\n\", \"Line 3\\n\"]\n",
    "with open(f, \"w\") as file:\n",
    "    file.writelines(lines)"
   ]
  },
  {
   "cell_type": "code",
   "execution_count": null,
   "id": "adf88b6e-6d5d-4fd5-a6c0-e08ed2d05c97",
   "metadata": {},
   "outputs": [],
   "source": []
  }
 ],
 "metadata": {
  "kernelspec": {
   "display_name": "Python 3 (ipykernel)",
   "language": "python",
   "name": "python3"
  },
  "language_info": {
   "codemirror_mode": {
    "name": "ipython",
    "version": 3
   },
   "file_extension": ".py",
   "mimetype": "text/x-python",
   "name": "python",
   "nbconvert_exporter": "python",
   "pygments_lexer": "ipython3",
   "version": "3.10.8"
  }
 },
 "nbformat": 4,
 "nbformat_minor": 5
}
