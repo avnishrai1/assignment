{
 "cells": [
  {
   "cell_type": "code",
   "execution_count": 5,
   "id": "854ec040-a0d9-44e3-ab46-17046546f7fd",
   "metadata": {},
   "outputs": [
    {
     "data": {
      "text/plain": [
       "('Avnish Rai', 'Btech filhaal toh', 68468468468489)"
      ]
     },
     "execution_count": 5,
     "metadata": {},
     "output_type": "execute_result"
    }
   ],
   "source": [
    "\"\"\"\n",
    "Q1. Explain Class and Object with respect to Object-Oriented Programming. Give a suitable example.\n",
    "Ans. In object-oriented programming (OOP), a class is a blueprint or a template that defines the properties (attributes) and \n",
    "    behaviors (methods) of objects. It serves as a blueprint for creating multiple instances of objects with similar \n",
    "    characteristics. A class encapsulates data and methods related to a specific concept or entity.\n",
    "\n",
    "    An object, on the other hand, is an instance of a class. It represents a specific occurrence or realization of the class. \n",
    "    Each object has its own unique set of attribute values, which are defined by the class, and can perform actions or behaviors \n",
    "    defined in the class's methods.\n",
    "\"\"\"\n",
    "\n",
    "class bio_data2 :\n",
    "    \n",
    "    def __init__(avnish, Name, Class, RollNo):\n",
    "        avnish.Name = Name\n",
    "        avnish.Class = Class\n",
    "        avnish.RollNo = RollNo\n",
    "        \n",
    "    def output1(avnish) :\n",
    "        return avnish.Name, avnish.Class, avnish.RollNo\n",
    "    \n",
    "result = bio_data2(\"Avnish Rai\", \"Btech filhaal toh\",68468468468489)\n",
    "\n",
    "result.output1()\n"
   ]
  },
  {
   "cell_type": "code",
   "execution_count": null,
   "id": "3986ab67-197e-42b4-b67d-2ad156aaa414",
   "metadata": {},
   "outputs": [],
   "source": [
    "\"\"\"\n",
    "Q2. Name the four pillars of OOPs.\n",
    "Ans. The four pillars of object-oriented programming (OOP) are:\n",
    "  1) Encapsulation\n",
    "  2) Inheritance\n",
    "  3) Polymorphism\n",
    "  4) Abstraction\n",
    "\"\"\""
   ]
  },
  {
   "cell_type": "code",
   "execution_count": 15,
   "id": "b1e82601-6332-44d6-8a01-15c66cfb0737",
   "metadata": {},
   "outputs": [
    {
     "name": "stdout",
     "output_type": "stream",
     "text": [
      "('Avnish', 20, 64687987987)\n",
      "('Avnish123', 50, 65546846868)\n"
     ]
    }
   ],
   "source": [
    "\"\"\"\n",
    "Q3. Explain why the __init__() function is used. Give a suitable example.\n",
    "Ans. In Python, the __init__() function is a special method, also known as the constructor method, that is automatically called \n",
    "     when an object is created from a class. It is used to initialize the attributes of the object and perform any other setup or \n",
    "     initialization tasks.\n",
    "\"\"\"\n",
    "\n",
    "class record1 :\n",
    "    \n",
    "    def __init__(self, name, age, contact):\n",
    "        self.name = name\n",
    "        self.age = age\n",
    "        self.contact = contact\n",
    "        \n",
    "    def record_data(self) :\n",
    "        return self.name, self.age, self.contact\n",
    "    \n",
    "employee1 = record1(\"Avnish\", 20, 64687987987)\n",
    "employee2 = record1(\"Avnish123\", 50, 65546846868)\n",
    "\n",
    "print(employee1.record_data())\n",
    "print(employee2.record_data())\n"
   ]
  },
  {
   "cell_type": "code",
   "execution_count": null,
   "id": "29eba7b0-fcbd-456b-af2b-e1862fcdd679",
   "metadata": {},
   "outputs": [],
   "source": [
    "\"\"\"\n",
    "Q4. Why self is used in OOPs?\n",
    "Ans. In object-oriented programming (OOP), the self parameter is used as a reference to the instance of a class. It is a \n",
    "     convention in Python to name the first parameter of a method as self, although you can use any valid name. The self parameter\n",
    "     allows access to the attributes and methods of an object within the class.\n",
    "\"\"\""
   ]
  },
  {
   "cell_type": "code",
   "execution_count": 3,
   "id": "c2b8e433-3d73-4083-8d74-301d4bcffdf4",
   "metadata": {},
   "outputs": [
    {
     "name": "stdout",
     "output_type": "stream",
     "text": [
      "My name is Avnish\n",
      "My full name is Avnish Rai\n"
     ]
    }
   ],
   "source": [
    "\"\"\"\n",
    "Q5. What is inheritance? Give an example for each type of inheritance.\n",
    "Ans. Inheritance is a fundamental concept in object-oriented programming (OOP) that allows a class to inherit properties and \n",
    "     behaviors from another class. The class that is being inherited from is called the base class, parent class, or superclass, \n",
    "     while the class that inherits is called the derived class, child class, or subclass. Inheritance promotes code reuse, \n",
    "     modularity, and extensibility by allowing the derived class to inherit and extend the functionality of the base class.\n",
    "\"\"\"\n",
    "#For Multilevel Inheritance :\n",
    "class class1 :\n",
    "    \n",
    "    def test_class1(self) :\n",
    "        return \"My name is Avnish\"\n",
    "    \n",
    "class class2(class1) :\n",
    "    \n",
    "    def test_class2(self) :\n",
    "        return \"My full name is Avnish Rai\"\n",
    "\n",
    "class final_class(class2) :\n",
    "    \n",
    "    def final_test(self) :\n",
    "        pass\n",
    "\n",
    "final = final_class()\n",
    "\n",
    "print(final.test_class1())\n",
    "print(final.test_class2())\n"
   ]
  },
  {
   "cell_type": "code",
   "execution_count": 4,
   "id": "70069a1d-44d0-4f7d-bc95-98aa06c68d3d",
   "metadata": {},
   "outputs": [
    {
     "name": "stdout",
     "output_type": "stream",
     "text": [
      "My name is Avnish\n",
      "My full name is Avnish Rai\n"
     ]
    }
   ],
   "source": [
    "#For Multiple Inheritance :\n",
    "class class1 :\n",
    "    \n",
    "    def test_class1(self) :\n",
    "        return \"My name is Avnish\"\n",
    "\n",
    "class class2 :\n",
    "    def test_class2(self) :\n",
    "        return \"My full name is Avnish Rai\"\n",
    "    \n",
    "class combine_class(class1, class2) :\n",
    "    pass\n",
    "\n",
    "final_class = combine_class()\n",
    "\n",
    "print(final_class.test_class1())\n",
    "print(final_class.test_class2())"
   ]
  }
 ],
 "metadata": {
  "kernelspec": {
   "display_name": "Python 3 (ipykernel)",
   "language": "python",
   "name": "python3"
  },
  "language_info": {
   "codemirror_mode": {
    "name": "ipython",
    "version": 3
   },
   "file_extension": ".py",
   "mimetype": "text/x-python",
   "name": "python",
   "nbconvert_exporter": "python",
   "pygments_lexer": "ipython3",
   "version": "3.10.8"
  }
 },
 "nbformat": 4,
 "nbformat_minor": 5
}
