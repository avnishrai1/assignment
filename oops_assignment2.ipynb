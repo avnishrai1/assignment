{
 "cells": [
  {
   "cell_type": "code",
   "execution_count": 4,
   "id": "8300656b-5868-4d15-8b87-39baf9a3a7a8",
   "metadata": {},
   "outputs": [
    {
     "name": "stdout",
     "output_type": "stream",
     "text": [
      "Lamborgini Black 1054566854\n",
      "Buggati White 65468416854\n"
     ]
    }
   ],
   "source": [
    "\"\"\"\n",
    "Q1. What is Abstraction in OOps? Explain with an example.\n",
    "Ans. Abstraction in object-oriented programming (OOP) is a concept that focuses on representing the essential features and behaviors of a system or an\n",
    "     object while hiding unnecessary details or complexities. It allows us to create simplified and high-level representations that capture the core \n",
    "     aspects of an entity without exposing the internal implementation.\n",
    "\n",
    "     Abstraction helps in managing the complexity of a system by providing a clear and concise interface for interacting with objects or systems. It \n",
    "     promotes code reusability, modularity, and maintainability.\n",
    "\"\"\"\n",
    "\n",
    "import abc\n",
    "\n",
    "class company :\n",
    "    \n",
    "    @abc.abstractmethod\n",
    "    def model(self) :\n",
    "        pass\n",
    "    \n",
    "    @abc.abstractmethod\n",
    "    def color(self) :\n",
    "        pass\n",
    "    \n",
    "    @abc.abstractmethod\n",
    "    def price(self) :\n",
    "        pass\n",
    "\n",
    "class model1(company):\n",
    "    \n",
    "    def model(self) :\n",
    "        return \"Buggati\"\n",
    "    \n",
    "    def color(self) :\n",
    "        return \"White\"\n",
    "    \n",
    "    def price(self) :\n",
    "        return 65468416854\n",
    "    \n",
    "\n",
    "class model2(company):\n",
    "    \n",
    "    def model(self) :\n",
    "        return \"Lamborgini\"\n",
    "    \n",
    "    def color(self) :\n",
    "        return \"Black\"\n",
    "    \n",
    "    def price(self) :\n",
    "        return 1054566854\n",
    "\n",
    "\n",
    "record = model2()\n",
    "record1 = model1()\n",
    "\n",
    "print(record.model(), record.color(), record.price())\n",
    "print(record1.model(), record1.color(), record1.price())"
   ]
  },
  {
   "cell_type": "code",
   "execution_count": 7,
   "id": "0cdee6cc-2681-4778-8fb0-0089f9f812f8",
   "metadata": {},
   "outputs": [
    {
     "name": "stdout",
     "output_type": "stream",
     "text": [
      "542\n"
     ]
    }
   ],
   "source": [
    "\"\"\"\n",
    "Q2. Differentiate between Abstraction and Encapsulation. Explain with an example.\n",
    "Ans. Abstraction in object-oriented programming (OOP) is a concept that focuses on representing the essential features and behaviors of a system or an\n",
    "     object while hiding unnecessary details or complexities. It allows us to create simplified and high-level representations that capture the core \n",
    "     aspects of an entity without exposing the internal implementation.\n",
    "     Abstraction helps in managing the complexity of a system by providing a clear and concise interface for interacting with objects or systems. It \n",
    "     promotes code reusability, modularity, and maintainability.\n",
    "     \n",
    "     Encapsulation involves bundling data and methods together within a class, where the data is hidden or encapsulated and can only be accessed or \n",
    "     modified through defined methods or interfaces. It focuses on information hiding and access control.\n",
    "     Encapsulation protects the internal state of an object, providing controlled access to its attributes and behaviors. It ensures that the object's \n",
    "     data is accessed and modified only through defined methods, promoting data integrity and code maintainability.\n",
    "\"\"\"\n",
    "\n",
    "#Example for Encapsulation :\n",
    "class car :\n",
    "    \n",
    "    def __init__(self, car, year, color, speed):\n",
    "        self.__car = car\n",
    "        self.__year = year\n",
    "        self.__color = color\n",
    "        self.__speed = speed\n",
    "        \n",
    "    def set_speed(self,speed) :\n",
    "        self.__speed = 0 if speed < 0 else speed\n",
    "    \n",
    "    def get_speed(self) : \n",
    "        return self.__speed\n",
    "    \n",
    "a = car(\"Mercedes\",2023,\"Red\",500)\n",
    "\n",
    "a.set_speed(542)\n",
    "a.get_speed()\n",
    "\n",
    "print(a.get_speed())\n"
   ]
  },
  {
   "cell_type": "code",
   "execution_count": 8,
   "id": "c3885e76-4d30-4dd0-ad81-b096b1628e20",
   "metadata": {},
   "outputs": [
    {
     "name": "stdout",
     "output_type": "stream",
     "text": [
      "Lamborgini Black 1054566854\n",
      "Buggati White 65468416854\n"
     ]
    }
   ],
   "source": [
    "#Example for Abstraction : \n",
    "import abc\n",
    "\n",
    "class company :\n",
    "    \n",
    "    @abc.abstractmethod\n",
    "    def model(self) :\n",
    "        pass\n",
    "    \n",
    "    @abc.abstractmethod\n",
    "    def color(self) :\n",
    "        pass\n",
    "    \n",
    "    @abc.abstractmethod\n",
    "    def price(self) :\n",
    "        pass\n",
    "\n",
    "class model1(company):\n",
    "    \n",
    "    def model(self) :\n",
    "        return \"Buggati\"\n",
    "    \n",
    "    def color(self) :\n",
    "        return \"White\"\n",
    "    \n",
    "    def price(self) :\n",
    "        return 65468416854\n",
    "    \n",
    "\n",
    "class model2(company):\n",
    "    \n",
    "    def model(self) :\n",
    "        return \"Lamborgini\"\n",
    "    \n",
    "    def color(self) :\n",
    "        return \"Black\"\n",
    "    \n",
    "    def price(self) :\n",
    "        return 1054566854\n",
    "\n",
    "\n",
    "record = model2()\n",
    "record1 = model1()\n",
    "\n",
    "print(record.model(), record.color(), record.price())\n",
    "print(record1.model(), record1.color(), record1.price())"
   ]
  },
  {
   "cell_type": "code",
   "execution_count": null,
   "id": "26754368-d96f-4ea2-816e-f923540aac26",
   "metadata": {},
   "outputs": [],
   "source": [
    "\"\"\"\n",
    "Q3. What is abc module in python? Why is it used?\n",
    "Ans. The abc module in Python stands for \"Abstract Base Classes\" and provides a way to define abstract base classes. Abstract base classes are classes \n",
    "     that cannot be instantiated directly but serve as a blueprint or interface for derived classes. They enforce a specific interface and provide \n",
    "     common functionality to subclasses. \n",
    "     \n",
    "     The abc module is used to define abstract base classes, enforce the implementation of abstract methods in derived classes, provide a common \n",
    "     interface, and check class hierarchy. It helps in achieving code consistency, reusability, and maintainability \n",
    "     by ensuring adherence to the defined interface and promoting a structured approach to class design.\n",
    "\"\"\""
   ]
  },
  {
   "cell_type": "code",
   "execution_count": null,
   "id": "1dd1ef42-9129-4a09-8409-4b01efc31f1b",
   "metadata": {},
   "outputs": [],
   "source": [
    "\"\"\"\n",
    "Q4. How can we achieve data abstraction?\n",
    "Ans. In Python, we can achieve data abstraction through a combination of techniques and concepts. Here are some approaches to achieve data \n",
    "     abstraction:\n",
    "     \n",
    "  1) Classes and Objects\n",
    "  2) Getter and Setter Methods\n",
    "  3) Abstract Base Classes (ABCs)\n",
    "  4) Interface-based Programming\n",
    "\"\"\""
   ]
  },
  {
   "cell_type": "code",
   "execution_count": null,
   "id": "b8a7483b-a40d-44d7-a986-60979420c08f",
   "metadata": {},
   "outputs": [],
   "source": [
    "\"\"\"\n",
    "Q5. Can we create an instance of an abstract class? Explain your answer.\n",
    "Ans. No, we cannot create an instance of an abstract class in Python. An abstract class is a class that is meant to be used only as a base class for \n",
    "     other classes. It cannot be instantiated directly because it is incomplete and lacks the implementation of one or more abstract methods.\n",
    "     \n",
    "     An abstract method is a method declared in the abstract class but without any implementation. It serves as a placeholder for methods that must be \n",
    "     implemented by the subclasses that inherit from the abstract class.\n",
    "     \n",
    "     To create an object or instance of a class, the class must be concrete, meaning it provides the complete implementation of all methods, including \n",
    "     any abstract methods inherited from abstract base classes.\n",
    "     \n",
    "     Attempting to instantiate an abstract class directly will result in a TypeError with a message indicating that the abstract class cannot be \n",
    "     instantiated. Abstract classes are designed to be inherited from, allowing subclasses to provide the implementation for abstract methods and create \n",
    "     instances of those subclasses. This way, the abstract class acts as a blueprint or contract, defining the common interface and behavior that the \n",
    "     subclasses should adhere to.\n",
    "\"\"\""
   ]
  },
  {
   "cell_type": "code",
   "execution_count": null,
   "id": "d151fce3-ad36-4264-a9dc-6ddbb3b6c139",
   "metadata": {},
   "outputs": [],
   "source": []
  },
  {
   "cell_type": "code",
   "execution_count": null,
   "id": "de17c591-5e72-47ea-b7d8-248fc4a1df92",
   "metadata": {},
   "outputs": [],
   "source": []
  }
 ],
 "metadata": {
  "kernelspec": {
   "display_name": "Python 3 (ipykernel)",
   "language": "python",
   "name": "python3"
  },
  "language_info": {
   "codemirror_mode": {
    "name": "ipython",
    "version": 3
   },
   "file_extension": ".py",
   "mimetype": "text/x-python",
   "name": "python",
   "nbconvert_exporter": "python",
   "pygments_lexer": "ipython3",
   "version": "3.10.8"
  }
 },
 "nbformat": 4,
 "nbformat_minor": 5
}
