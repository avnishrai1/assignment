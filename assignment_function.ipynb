{
 "cells": [
  {
   "cell_type": "code",
   "execution_count": 13,
   "id": "d4fcaad1-2a51-4484-9d3a-6c9b800daaf7",
   "metadata": {},
   "outputs": [
    {
     "name": "stdout",
     "output_type": "stream",
     "text": [
      "Odd Number : [1, 3, 5, 7, 9, 11, 13, 15, 17, 19, 21, 23, 25]\n"
     ]
    }
   ],
   "source": [
    "# Q1. Which keyword is used to create a function? Create a function to return a list of odd numbers in the\n",
    "#     range of 1 to 25.\n",
    "\n",
    "#Ans = def keyword is used to create function\n",
    "    \n",
    "def odd_num() :\n",
    "    l = []\n",
    "    for i in range(1,26) :\n",
    "        if i % 2 != 0 :\n",
    "            l.append(i)\n",
    "    return l\n",
    "print(\"Odd Number :\",odd_num())\n",
    "            "
   ]
  },
  {
   "cell_type": "code",
   "execution_count": 13,
   "id": "c7b178c3-780f-4a0e-a8be-c39e98641b19",
   "metadata": {},
   "outputs": [
    {
     "name": "stdout",
     "output_type": "stream",
     "text": [
      "Sum is : 176\n"
     ]
    }
   ],
   "source": [
    "\"\"\"\n",
    "Q2. Why *args and **kwargs is used in some functions? Create a function each for *args and **kwargs\n",
    "    to demonstrate their use.\n",
    "\n",
    "Ans = They are used as parameters in function defintion as for a flexible number of arguments to be passed into the function.\n",
    "      *args is treated as a tuple that contains the passed arguments.\n",
    "      **kwargs parameter allows a function to accept a variable number of keyword arguments.\n",
    "\"\"\"\n",
    "# Python program of add the elemnet using *args\n",
    "\n",
    "def avnish(*args) :\n",
    "    num = 0\n",
    "    for a in args :\n",
    "        num = a + num\n",
    "    return num\n",
    "\n",
    "print(\"Sum is :\",avnish(1,111,5,55,4))"
   ]
  },
  {
   "cell_type": "code",
   "execution_count": 14,
   "id": "5c86eb9d-78f6-4345-9f67-14cb40637e26",
   "metadata": {},
   "outputs": [
    {
     "name": "stdout",
     "output_type": "stream",
     "text": [
      "Name: Avnish Rai\n",
      "Course: BTech CSE-AI\n",
      "Age: 20\n",
      "RollNo: Itna Personal Question Nahi\n",
      "City: Ghaziabad\n"
     ]
    }
   ],
   "source": [
    "# Python program of add the elemnet using *kwargs\n",
    "def avnish1(**kwargs) :\n",
    "    for k, v in kwargs.items() :\n",
    "        print(k + \": \" + v)\n",
    "\n",
    "avnish1(Name = \"Avnish Rai\", Course = \"BTech CSE-AI\", Age = \"20\", RollNo = \"Itna Personal Question Nahi\", City = \"Ghaziabad\") \n",
    "        "
   ]
  },
  {
   "cell_type": "code",
   "execution_count": 11,
   "id": "0ff6e5e7-f9fd-4b92-a0b0-7a3b9f427c63",
   "metadata": {},
   "outputs": [
    {
     "name": "stdout",
     "output_type": "stream",
     "text": [
      "2\n",
      "4\n",
      "6\n",
      "8\n",
      "10\n"
     ]
    }
   ],
   "source": [
    "\"\"\"\n",
    "Q3. What is an iterator in python? Name the method used to initialise the iterator object and the method\n",
    "    used for iteration. Use these methods to print the first five elements of the given list [2, 4, 6, 8, 10, 12, 14,\n",
    "    16, 18, 20].\n",
    "\n",
    "Ans= An iterator is an object which provide provides a way to access the elements one by one. To use iterator in python we use \n",
    "    iter(). This function takes an iterable  value as input and gives iterator object as output.\n",
    "\n",
    "    next() is used for iteration in python. It is used to access the next element from the iterator, whenever we call next() it \n",
    "    returns next element until no element is left.\n",
    "\"\"\"\n",
    "l1 = [2, 4, 6, 8, 10, 12, 14, 16, 18, 20]\n",
    "l2 = iter(l1)\n",
    "\n",
    "for _ in range(5) :\n",
    "    avnish = next(l2)\n",
    "    print(avnish)"
   ]
  },
  {
   "cell_type": "code",
   "execution_count": 17,
   "id": "d029bd60-41ee-437a-bc4e-843b251d9df3",
   "metadata": {},
   "outputs": [
    {
     "name": "stdout",
     "output_type": "stream",
     "text": [
      "0\n",
      "1\n",
      "1\n",
      "2\n",
      "3\n",
      "5\n",
      "8\n",
      "13\n",
      "21\n",
      "34\n"
     ]
    }
   ],
   "source": [
    "\"\"\"\n",
    "Q4. What is a generator function in python? Why yield keyword is used? Give an example of a generator\n",
    "    function.\n",
    "\n",
    "Ans = A generator function is a special typee of function which generates a sequence of values on-the-fly\n",
    "     instead of returning them all at once. It uses the 'yield' keyword instead of return to generate the values.\n",
    "     \n",
    "    The yield keyword is used to yield a value from the generator function and temporarily suspend the function's execution.\n",
    "    It allows the function to produce a sequence of values without needing to store all of them in memory at once. The state\n",
    "    of the function is saved, and when the generator is iterated again, it picks up from where it left off.\n",
    "\"\"\"\n",
    "\n",
    "def gen(nm) :\n",
    "    a ,b = 0, 1\n",
    "    for _ in range(nm) :\n",
    "        yield a\n",
    "        a ,b = b, a+b\n",
    "        \n",
    "for i in gen(10) :\n",
    "    print(i)"
   ]
  },
  {
   "cell_type": "code",
   "execution_count": 26,
   "id": "09b44486-c4d5-49d5-b7c5-bf9fa2f53fe2",
   "metadata": {},
   "outputs": [
    {
     "name": "stdout",
     "output_type": "stream",
     "text": [
      "2\n",
      "3\n",
      "5\n",
      "7\n",
      "11\n",
      "13\n",
      "17\n",
      "19\n",
      "23\n",
      "29\n",
      "31\n",
      "37\n",
      "41\n",
      "43\n",
      "47\n",
      "53\n",
      "59\n",
      "61\n",
      "67\n",
      "71\n"
     ]
    }
   ],
   "source": [
    "\"\"\"\n",
    "Q5. Create a generator function for prime numbers less than 1000. Use the next() method to print the\n",
    "first 20 prime numbers.\n",
    "\"\"\"\n",
    "\n",
    "def prime():\n",
    "    num = 2\n",
    "\n",
    "    while num < 1000:\n",
    "        a_prime = True\n",
    "        for i in range(2, num):\n",
    "            if num % i == 0:\n",
    "                a_prime = False\n",
    "                break\n",
    "\n",
    "        if a_prime:\n",
    "            yield num\n",
    "\n",
    "        num = num + 1\n",
    "\n",
    "\n",
    "prime_generator = prime()\n",
    "\n",
    "count = 0\n",
    "while count < 20:\n",
    "    prime_20 = next(prime_generator)\n",
    "    print(prime_20)\n",
    "    count = count + 1"
   ]
  },
  {
   "cell_type": "code",
   "execution_count": 47,
   "id": "3f44dc39-a7de-490d-8607-ad777bb7881e",
   "metadata": {},
   "outputs": [
    {
     "name": "stdout",
     "output_type": "stream",
     "text": [
      "0\n",
      "1\n",
      "1\n",
      "2\n",
      "3\n",
      "5\n",
      "8\n",
      "13\n",
      "21\n",
      "34\n"
     ]
    }
   ],
   "source": [
    "# Q6. Write a python program to print the first 10 Fibonacci numbers using a while loop.\n",
    "\n",
    "num = 10\n",
    "a ,b = 0,1\n",
    "final = 0\n",
    "while final < num :\n",
    "    print(a)\n",
    "    c = a+b\n",
    "    a = b\n",
    "    b = c\n",
    "    final = final + 1"
   ]
  },
  {
   "cell_type": "code",
   "execution_count": 52,
   "id": "dbc9e2f4-fa0d-46e5-8228-ff769e19716d",
   "metadata": {},
   "outputs": [
    {
     "name": "stdout",
     "output_type": "stream",
     "text": [
      "['p', 'w', 's', 'k', 'i', 'l', 'l', 's']\n"
     ]
    }
   ],
   "source": [
    "\"\"\" \n",
    "Q7. Write a List Comprehension to iterate through the given string: ‘pwskills’.\n",
    "Expected output: ['p', 'w', 's', 'k', 'i', 'l', 'l', 's']  \"\"\"\n",
    "\n",
    "avn = \"pwskills\"\n",
    "output = []\n",
    "\n",
    "for a in avn : \n",
    "    output.append(a)\n",
    "\n",
    "print(output)"
   ]
  },
  {
   "cell_type": "code",
   "execution_count": 60,
   "id": "258eccea-1196-4dac-84d6-e71c7cbd8e3c",
   "metadata": {},
   "outputs": [
    {
     "name": "stdin",
     "output_type": "stream",
     "text": [
      "Enter the number : 1331\n"
     ]
    },
    {
     "name": "stdout",
     "output_type": "stream",
     "text": [
      "Given number is palidrome\n"
     ]
    }
   ],
   "source": [
    "#Q8. Write a python program to check whether a given number is Palindrome or not using a while loop.\n",
    "\n",
    "palidrome = int(input(\"Enter the number :\"))\n",
    "avnish = palidrome\n",
    "\n",
    "reverse = 0\n",
    "\n",
    "while avnish > 0 :\n",
    "    remainder = avnish % 10\n",
    "    avnish = avnish // 10\n",
    "    reverse = reverse * 10 + remainder\n",
    "\n",
    "if reverse == palidrome :\n",
    "    print(\"Given number is palidrome\")\n",
    "else :\n",
    "    print(\"Given number is not palidrome\")"
   ]
  },
  {
   "cell_type": "code",
   "execution_count": 67,
   "id": "a11e1f9c-b723-48e3-b288-f020f9992dbe",
   "metadata": {},
   "outputs": [
    {
     "name": "stdout",
     "output_type": "stream",
     "text": [
      "[1, 3, 5, 7, 9, 11, 13, 15, 17, 19, 21, 23, 25, 27, 29, 31, 33, 35, 37, 39, 41, 43, 45, 47, 49, 51, 53, 55, 57, 59, 61, 63, 65, 67, 69, 71, 73, 75, 77, 79, 81, 83, 85, 87, 89, 91, 93, 95, 97, 99]\n"
     ]
    }
   ],
   "source": [
    "#Q9. Write a code to print odd numbers from 1 to 100 using list comprehension.\n",
    "\n",
    "odd_num = [num for num in range(1,101) if num % 2 != 0]\n",
    "print(odd_num)"
   ]
  }
 ],
 "metadata": {
  "kernelspec": {
   "display_name": "Python 3 (ipykernel)",
   "language": "python",
   "name": "python3"
  },
  "language_info": {
   "codemirror_mode": {
    "name": "ipython",
    "version": 3
   },
   "file_extension": ".py",
   "mimetype": "text/x-python",
   "name": "python",
   "nbconvert_exporter": "python",
   "pygments_lexer": "ipython3",
   "version": "3.10.8"
  }
 },
 "nbformat": 4,
 "nbformat_minor": 5
}
