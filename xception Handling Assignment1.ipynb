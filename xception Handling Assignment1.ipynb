{
 "cells": [
  {
   "cell_type": "code",
   "execution_count": null,
   "id": "9b877775-ffac-48e7-9f68-0c16f4c564c1",
   "metadata": {},
   "outputs": [],
   "source": [
    "\"\"\"\n",
    "Q1. What is an exception in python? Write the difference between syntax and exceptions errors .\n",
    "\n",
    "Ans. In Python, an exception is an event that occurs during the execution of a program that disrupts the normal flow of the \n",
    "     program. When an exceptional situation or error occurs, an exception object is created and raised, which can be caught and \n",
    "     handled by appropriate code.\n",
    "     \n",
    "     Difference between syntax and exception errors:\n",
    "     \n",
    "     Syntax Error:\n",
    "   1.Syntax errors occur when the code violates the rules of the Python language grammar.\n",
    "   2.These errors are usually detected by the Python interpreter during the parsing phase before the program execution.\n",
    "   3.Examples of syntax errors include missing colons, incorrect indentation, mismatched parentheses, or using undefined variables.\n",
    "   \n",
    "     Exception Error:\n",
    "   1.Exception errors occur during the execution of a program and are caused by exceptional situations or errors.\n",
    "   2.These errors can arise due to various reasons such as invalid input, file I/O errors, arithmetic errors (like division by \n",
    "     zero), or accessing an undefined object.\n",
    "   3.Exception errors can be handled using try-except statements to catch and handle specific types of exceptions or using a \n",
    "     generic except block to catch any exception.\n",
    "   4.Examples of exception errors include ValueError, TypeError, ZeroDivisionError, FileNotFoundError, etc.\n",
    "   \n",
    "\"\"\""
   ]
  },
  {
   "cell_type": "code",
   "execution_count": null,
   "id": "fe060efd-679b-4ca4-a9cd-409494452aac",
   "metadata": {},
   "outputs": [],
   "source": [
    "\"\"\"\n",
    "Q2.What happens when an exception is not handled? Explain with an example.\n",
    "\n",
    "Ans.When an exception is not handled in a Python program, it leads to the termination of the program and an error message is \n",
    "    displayed. This error message provides information about the unhandled exception, including the type of exception, the line of\n",
    "    code where it occurred, and a traceback that shows the call stack leading up to the exception\n",
    "    \n",
    "    Here is an example :\n",
    "\"\"\""
   ]
  },
  {
   "cell_type": "code",
   "execution_count": 9,
   "id": "d1661b45-893e-444f-a54a-5f84377831bf",
   "metadata": {},
   "outputs": [
    {
     "ename": "FileNotFoundError",
     "evalue": "[Errno 2] No such file or directory: 'test.txt'",
     "output_type": "error",
     "traceback": [
      "\u001b[0;31m---------------------------------------------------------------------------\u001b[0m",
      "\u001b[0;31mFileNotFoundError\u001b[0m                         Traceback (most recent call last)",
      "Cell \u001b[0;32mIn[9], line 8\u001b[0m\n\u001b[1;32m      5\u001b[0m     \u001b[38;5;28;01mreturn\u001b[39;00m contents\n\u001b[1;32m      7\u001b[0m file_name \u001b[38;5;241m=\u001b[39m \u001b[38;5;124m\"\u001b[39m\u001b[38;5;124mtest.txt\u001b[39m\u001b[38;5;124m\"\u001b[39m\n\u001b[0;32m----> 8\u001b[0m file_contents \u001b[38;5;241m=\u001b[39m \u001b[43mopen_file\u001b[49m\u001b[43m(\u001b[49m\u001b[43mfile_name\u001b[49m\u001b[43m)\u001b[49m\n\u001b[1;32m      9\u001b[0m \u001b[38;5;28mprint\u001b[39m(\u001b[38;5;124m\"\u001b[39m\u001b[38;5;124mFile Contents:\u001b[39m\u001b[38;5;124m\"\u001b[39m, file_contents)\n",
      "Cell \u001b[0;32mIn[9], line 2\u001b[0m, in \u001b[0;36mopen_file\u001b[0;34m(file_name)\u001b[0m\n\u001b[1;32m      1\u001b[0m \u001b[38;5;28;01mdef\u001b[39;00m \u001b[38;5;21mopen_file\u001b[39m(file_name):\n\u001b[0;32m----> 2\u001b[0m     file \u001b[38;5;241m=\u001b[39m \u001b[38;5;28;43mopen\u001b[39;49m\u001b[43m(\u001b[49m\u001b[43mfile_name\u001b[49m\u001b[43m,\u001b[49m\u001b[43m \u001b[49m\u001b[38;5;124;43m'\u001b[39;49m\u001b[38;5;124;43mr\u001b[39;49m\u001b[38;5;124;43m'\u001b[39;49m\u001b[43m)\u001b[49m\n\u001b[1;32m      3\u001b[0m     contents \u001b[38;5;241m=\u001b[39m file\u001b[38;5;241m.\u001b[39mread()\n\u001b[1;32m      4\u001b[0m     file\u001b[38;5;241m.\u001b[39mclose()\n",
      "File \u001b[0;32m/opt/conda/lib/python3.10/site-packages/IPython/core/interactiveshell.py:282\u001b[0m, in \u001b[0;36m_modified_open\u001b[0;34m(file, *args, **kwargs)\u001b[0m\n\u001b[1;32m    275\u001b[0m \u001b[38;5;28;01mif\u001b[39;00m file \u001b[38;5;129;01min\u001b[39;00m {\u001b[38;5;241m0\u001b[39m, \u001b[38;5;241m1\u001b[39m, \u001b[38;5;241m2\u001b[39m}:\n\u001b[1;32m    276\u001b[0m     \u001b[38;5;28;01mraise\u001b[39;00m \u001b[38;5;167;01mValueError\u001b[39;00m(\n\u001b[1;32m    277\u001b[0m         \u001b[38;5;124mf\u001b[39m\u001b[38;5;124m\"\u001b[39m\u001b[38;5;124mIPython won\u001b[39m\u001b[38;5;124m'\u001b[39m\u001b[38;5;124mt let you open fd=\u001b[39m\u001b[38;5;132;01m{\u001b[39;00mfile\u001b[38;5;132;01m}\u001b[39;00m\u001b[38;5;124m by default \u001b[39m\u001b[38;5;124m\"\u001b[39m\n\u001b[1;32m    278\u001b[0m         \u001b[38;5;124m\"\u001b[39m\u001b[38;5;124mas it is likely to crash IPython. If you know what you are doing, \u001b[39m\u001b[38;5;124m\"\u001b[39m\n\u001b[1;32m    279\u001b[0m         \u001b[38;5;124m\"\u001b[39m\u001b[38;5;124myou can use builtins\u001b[39m\u001b[38;5;124m'\u001b[39m\u001b[38;5;124m open.\u001b[39m\u001b[38;5;124m\"\u001b[39m\n\u001b[1;32m    280\u001b[0m     )\n\u001b[0;32m--> 282\u001b[0m \u001b[38;5;28;01mreturn\u001b[39;00m \u001b[43mio_open\u001b[49m\u001b[43m(\u001b[49m\u001b[43mfile\u001b[49m\u001b[43m,\u001b[49m\u001b[43m \u001b[49m\u001b[38;5;241;43m*\u001b[39;49m\u001b[43margs\u001b[49m\u001b[43m,\u001b[49m\u001b[43m \u001b[49m\u001b[38;5;241;43m*\u001b[39;49m\u001b[38;5;241;43m*\u001b[39;49m\u001b[43mkwargs\u001b[49m\u001b[43m)\u001b[49m\n",
      "\u001b[0;31mFileNotFoundError\u001b[0m: [Errno 2] No such file or directory: 'test.txt'"
     ]
    }
   ],
   "source": [
    "def open_file(file_name):\n",
    "    file = open(file_name, 'r')\n",
    "    contents = file.read()\n",
    "    file.close()\n",
    "    return contents\n",
    "\n",
    "file_name = \"test.txt\"\n",
    "file_contents = open_file(file_name)\n",
    "print(\"File Contents:\", file_contents)\n"
   ]
  },
  {
   "cell_type": "code",
   "execution_count": 10,
   "id": "73c359b8-3e0c-4d8f-8eb0-3dc3654823c2",
   "metadata": {},
   "outputs": [
    {
     "name": "stdout",
     "output_type": "stream",
     "text": [
      "Error: File 'test.txt' not found\n"
     ]
    }
   ],
   "source": [
    "#To prevent the program from terminating and handle the exception, we can modify the example with a try-except block:\n",
    "\n",
    "def open_file(file_name):\n",
    "    try:\n",
    "        file = open(file_name, 'r')\n",
    "        contents = file.read()\n",
    "        file.close()\n",
    "        return contents\n",
    "    except FileNotFoundError:\n",
    "        print(f\"Error: File '{file_name}' not found\")\n",
    "\n",
    "file_name = \"test.txt\"\n",
    "file_contents = open_file(file_name)\n",
    "if file_contents:\n",
    "    print(\"File Contents:\", file_contents)"
   ]
  },
  {
   "cell_type": "code",
   "execution_count": 15,
   "id": "4139f10e-ca8f-48e6-86d5-e81a486a917d",
   "metadata": {},
   "outputs": [
    {
     "name": "stdout",
     "output_type": "stream",
     "text": [
      "Error: Cannot divide by zero\n",
      "Result: None\n"
     ]
    }
   ],
   "source": [
    "\"\"\"\n",
    "Q3.Which Python statements are used to catch and handle exceptions? Explain with an example.\n",
    "\n",
    "Ans.The try and except statements are used to catch and handle exceptions in Python. The try block contains the code that is being\n",
    "    tested for errors. The except block contains the code that is executed if an error occurs in the try block.\n",
    "    \n",
    "    Here an example :\n",
    "\"\"\"\n",
    "\n",
    "\"\"\"\n",
    "Q3.Which Python statements are used to catch and handle exceptions? Explain with an example.\n",
    "\n",
    "Ans.The try and except statements are used to catch and handle exceptions in Python. The try block contains the code that is being\n",
    "    tested for errors. The except block contains the code that is executed if an error occurs in the try block.\n",
    "\"\"\"\n",
    "#Example of this :-\n",
    "\n",
    "def divide_numbers(a, b):\n",
    "    try:\n",
    "        result = a / b\n",
    "        return result\n",
    "    except ZeroDivisionError:\n",
    "        print(\"Error: Cannot divide by zero\")\n",
    "\n",
    "num1 = 10\n",
    "num2 = 0\n",
    "\n",
    "result = divide_numbers(num1, num2)\n",
    "print(\"Result:\", result)\n"
   ]
  },
  {
   "cell_type": "code",
   "execution_count": null,
   "id": "baeb9c36-1a86-490d-a069-29f9aa0b5014",
   "metadata": {},
   "outputs": [],
   "source": [
    "\"\"\"\n",
    "Q4.Explain with an example :\n",
    "   a) try and else\n",
    "   b) finally\n",
    "   c) raise.\n",
    "\"\"\""
   ]
  },
  {
   "cell_type": "code",
   "execution_count": 16,
   "id": "9444ec60-de21-4323-9537-af25073871a8",
   "metadata": {},
   "outputs": [
    {
     "name": "stdout",
     "output_type": "stream",
     "text": [
      "Division successful!\n",
      "Result: 2.0\n"
     ]
    }
   ],
   "source": [
    "\"\"\"\n",
    "a)try and else:\n",
    "  The else block in a try else statement is executed only if no exceptions occur within the try block. It provides a way to \n",
    "  specify code that should be executed when the try block completes successfully.\n",
    "\"\"\"\n",
    "try:\n",
    "    num1 = 10\n",
    "    num2 = 5\n",
    "    result = num1 / num2\n",
    "except ZeroDivisionError:\n",
    "    print(\"Error: Cannot divide by zero\")\n",
    "else:\n",
    "    print(\"Division successful!\")\n",
    "    print(\"Result:\", result)"
   ]
  },
  {
   "cell_type": "code",
   "execution_count": 17,
   "id": "8bda8a13-ff3d-4011-81ad-2e26aeae79ab",
   "metadata": {},
   "outputs": [
    {
     "name": "stdout",
     "output_type": "stream",
     "text": [
      "Error: File not found\n"
     ]
    },
    {
     "ename": "NameError",
     "evalue": "name 'file' is not defined",
     "output_type": "error",
     "traceback": [
      "\u001b[0;31m---------------------------------------------------------------------------\u001b[0m",
      "\u001b[0;31mNameError\u001b[0m                                 Traceback (most recent call last)",
      "Cell \u001b[0;32mIn[17], line 13\u001b[0m\n\u001b[1;32m     11\u001b[0m     \u001b[38;5;28mprint\u001b[39m(\u001b[38;5;124m\"\u001b[39m\u001b[38;5;124mError: File not found\u001b[39m\u001b[38;5;124m\"\u001b[39m)\n\u001b[1;32m     12\u001b[0m \u001b[38;5;28;01mfinally\u001b[39;00m:\n\u001b[0;32m---> 13\u001b[0m     \u001b[38;5;28;01mif\u001b[39;00m \u001b[43mfile\u001b[49m:\n\u001b[1;32m     14\u001b[0m         file\u001b[38;5;241m.\u001b[39mclose()\n\u001b[1;32m     15\u001b[0m         \u001b[38;5;28mprint\u001b[39m(\u001b[38;5;124m\"\u001b[39m\u001b[38;5;124mFile closed\u001b[39m\u001b[38;5;124m\"\u001b[39m)\n",
      "\u001b[0;31mNameError\u001b[0m: name 'file' is not defined"
     ]
    }
   ],
   "source": [
    "\"\"\"\n",
    "b) finally:\n",
    "  The finally block in a try-except-finally statement is executed regardless of whether an exception occurred or not. It is used \n",
    "  to specify cleanup code that should be executed regardless of the outcome.\n",
    "\"\"\"\n",
    "try:\n",
    "    file = open(\"test.txt\", \"r\")\n",
    "    contents = file.read()\n",
    "    print(\"File Contents:\", contents)\n",
    "except FileNotFoundError:\n",
    "    print(\"Error: File not found\")\n",
    "finally:\n",
    "    if file:\n",
    "        file.close()\n",
    "        print(\"File closed\")"
   ]
  },
  {
   "cell_type": "code",
   "execution_count": 19,
   "id": "444b7cca-f22a-4891-aded-56e1ed28ab64",
   "metadata": {},
   "outputs": [
    {
     "name": "stdin",
     "output_type": "stream",
     "text": [
      "Enter the valid age : 1518\n"
     ]
    },
    {
     "name": "stdout",
     "output_type": "stream",
     "text": [
      "Age is very high\n"
     ]
    }
   ],
   "source": [
    "\"\"\"\n",
    "c) raise:\n",
    "   The raise statement is used to explicitly raise an exception in Python. It allows programmers to generate their own exceptions \n",
    "   or re-raise exceptions that were caught and handled earlier.\n",
    "\"\"\"\n",
    "\n",
    "class validateage(Exception) :\n",
    "    \n",
    "    def __init__(self,message) :\n",
    "        self.message = message\n",
    "\n",
    "def avnish(age) :\n",
    "    \n",
    "    if age < 0 :\n",
    "        raise validateage(\"Age is very less\")\n",
    "    elif age > 200 :\n",
    "        raise validateage(\"Age is very high\")\n",
    "    else :\n",
    "        print(\"You entered a valid age\")\n",
    "        \n",
    "try :\n",
    "    age= int(input(\"Enter the valid age :\"))\n",
    "    avnish(age)\n",
    "except validateage as e :\n",
    "    print(e)"
   ]
  },
  {
   "cell_type": "code",
   "execution_count": 21,
   "id": "739249f4-f252-4201-b35d-92caa2f21ddb",
   "metadata": {},
   "outputs": [
    {
     "name": "stdout",
     "output_type": "stream",
     "text": [
      "Error: Insufficient funds. Available balance: 100. Required amount: 150\n"
     ]
    }
   ],
   "source": [
    "\"\"\"\n",
    "Q5.What are Custom Exceptions in Python? Why do we need custom exceptions? Explain with an example.\n",
    "\n",
    "Ans.Custom exceptions in Python refer to user-defined exceptions that are created by the programmer to handle specific error \n",
    "    conditions or situations that are not covered by the built-in exceptions provided by Python. They allow programmers to define \n",
    "    their own exception classes and raise those exceptions when necessary in their code.\n",
    "    \n",
    "    Custom exceptions are needed to:\n",
    "\n",
    "  1)Provide specific and meaningful error messages: By creating custom exceptions, programmers can provide more detailed and \n",
    "    specific error messages that accurately describe the exceptional condition or error that occurred. This helps in troubleshooting \n",
    "    and debugging code more effectively.\n",
    "  2)Handle application-specific errors: Custom exceptions allow programmers to handle errors or exceptional situations that are \n",
    "    specific to their application or domain. They can define exception classes that encapsulate the logic and behavior required \n",
    "    to handle those specific errors.\n",
    "  3)Enhance code readability and maintainability: Custom exceptions can make code more readable and self-explanatory. By using \n",
    "    well-named exception classes, it becomes easier for other developers to understand the purpose of the exception and how to \n",
    "    handle it.\n",
    "\"\"\"\n",
    "\n",
    "class InsufficientFundsError(Exception):\n",
    "\n",
    "    def __init__(self, balance, amount):\n",
    "        self.balance = balance\n",
    "        self.amount = amount\n",
    "\n",
    "    def __str__(self):\n",
    "        return f\"Insufficient funds. Available balance: {self.balance}. Required amount: {self.amount}\"\n",
    "\n",
    "def withdraw(balance, amount):\n",
    "    if balance < amount:\n",
    "        raise InsufficientFundsError(balance, amount)\n",
    "    return balance - amount\n",
    "\n",
    "try:\n",
    "    account_balance = 100\n",
    "    withdrawal_amount = 150\n",
    "    remaining_balance = withdraw(account_balance, withdrawal_amount)\n",
    "    print(\"Withdrawal successful. Remaining balance:\", remaining_balance)\n",
    "except InsufficientFundsError as e:\n",
    "    print(\"Error:\", str(e))"
   ]
  },
  {
   "cell_type": "code",
   "execution_count": null,
   "id": "a5118bf3-f9d7-46e4-a2dc-c931b0a43899",
   "metadata": {},
   "outputs": [],
   "source": [
    "\"\"\"\n",
    "Q6.Create a custom exception class. Use this class to handle an exception.\n",
    "\n",
    "\"\"\""
   ]
  },
  {
   "cell_type": "code",
   "execution_count": 24,
   "id": "f96a314f-ba79-491e-99d5-5580e59b02e0",
   "metadata": {},
   "outputs": [
    {
     "name": "stdin",
     "output_type": "stream",
     "text": [
      "Enter the number for root : -36\n"
     ]
    },
    {
     "name": "stdout",
     "output_type": "stream",
     "text": [
      "Error: Negative number encountered: -36\n"
     ]
    }
   ],
   "source": [
    "class NegativeNumberError(Exception):\n",
    "\n",
    "    def __init__(self, number):\n",
    "        self.number = number\n",
    "\n",
    "    def __str__(self):\n",
    "        return f\"Negative number encountered: {self.number}\"\n",
    "\n",
    "def calculate_square_root(number):\n",
    "    if number < 0:\n",
    "        raise NegativeNumberError(number)\n",
    "    return number ** 0.5\n",
    "\n",
    "try:\n",
    "    input_number = int(input(\"Enter the number for root :\"))\n",
    "    result = calculate_square_root(input_number)\n",
    "    print(\"Square root:\", result)\n",
    "except NegativeNumberError as e:\n",
    "    print(\"Error:\", str(e))"
   ]
  },
  {
   "cell_type": "code",
   "execution_count": null,
   "id": "47878fe3-4320-479d-81c6-bd7710ffbda5",
   "metadata": {},
   "outputs": [],
   "source": []
  }
 ],
 "metadata": {
  "kernelspec": {
   "display_name": "Python 3 (ipykernel)",
   "language": "python",
   "name": "python3"
  },
  "language_info": {
   "codemirror_mode": {
    "name": "ipython",
    "version": 3
   },
   "file_extension": ".py",
   "mimetype": "text/x-python",
   "name": "python",
   "nbconvert_exporter": "python",
   "pygments_lexer": "ipython3",
   "version": "3.10.8"
  }
 },
 "nbformat": 4,
 "nbformat_minor": 5
}
