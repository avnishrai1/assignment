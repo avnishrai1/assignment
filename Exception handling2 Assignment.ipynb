{
 "cells": [
  {
   "cell_type": "code",
   "execution_count": null,
   "id": "e988333d-f3a3-4260-9ab0-e1a562921cec",
   "metadata": {},
   "outputs": [],
   "source": [
    "\"\"\"\n",
    "Q1. Explain why we have to use the Exception class while creating a Custom Exception.\n",
    "Note: Here Exception class refers to the base class for all the exceptions.\n",
    "\n",
    "Ans. When creating a custom exception in Python, it is recommended to inherit from the Exception class or one of its subclasses. The \n",
    "     Exception class serves as the base class for all built-in exceptions in Python. Here's why it is advisable to use the Exception class \n",
    "     as the base class when creating custom exceptions:\n",
    "   1)Standardization and Compatibility\n",
    "   2)Catching and Handling\n",
    "   3)Exception Hierarchy\n",
    "   4)Access to Exception Functionality\n",
    "\"\"\""
   ]
  },
  {
   "cell_type": "code",
   "execution_count": 1,
   "id": "3d2290c3-dace-4f50-b96b-07d055374258",
   "metadata": {},
   "outputs": [
    {
     "name": "stdout",
     "output_type": "stream",
     "text": [
      "AbortThread\n",
      "CancelledError\n",
      "Exception\n",
      "GeneratorExit\n",
      "KeyboardInterrupt\n",
      "SystemExit\n"
     ]
    }
   ],
   "source": [
    "\"\"\"\n",
    "Q2. Write a python program to print Python Exception Hierarchy.\n",
    "\n",
    "\"\"\"\n",
    "def print_exception_hierarchy():\n",
    "    exception_classes = []\n",
    "    for subclass in BaseException.__subclasses__():\n",
    "        exception_classes.append(subclass.__name__)\n",
    "    exception_classes.sort()\n",
    "\n",
    "    for exception_class in exception_classes:\n",
    "        print(exception_class)\n",
    "        \n",
    "print_exception_hierarchy()\n"
   ]
  },
  {
   "cell_type": "code",
   "execution_count": 2,
   "id": "dcc0edb7-501d-4908-a202-b053034941da",
   "metadata": {},
   "outputs": [
    {
     "name": "stdout",
     "output_type": "stream",
     "text": [
      "Error: Cannot divide by zero\n"
     ]
    }
   ],
   "source": [
    "try:\n",
    "    num1 = 10\n",
    "    num2 = 0\n",
    "    result = num1 / num2\n",
    "except ZeroDivisionError:\n",
    "    print(\"Error: Cannot divide by zero\")\n",
    "except ValueError:\n",
    "    print(\"Error: Invalid value\")\n",
    "except Exception:\n",
    "    print(\"Error: An exception occurred\")\n"
   ]
  },
  {
   "cell_type": "code",
   "execution_count": 3,
   "id": "17b260aa-8890-4253-9ab9-e31379042d5e",
   "metadata": {},
   "outputs": [
    {
     "name": "stdout",
     "output_type": "stream",
     "text": [
      "Error: Cannot divide by zero\n"
     ]
    }
   ],
   "source": [
    "\"\"\"\n",
    "Q3. What errors are defined in the ArithmeticError class? Explain any two with an example.\n",
    "\n",
    "Ans.The ArithmeticError class in Python serves as a base class for various arithmetic-related exceptions. It encompasses errors that can \n",
    "    occur during arithmetic operations. Here are two examples of errors defined in the ArithmeticError class, along with explanations and \n",
    "    examples:\n",
    "\"\"\"\n",
    "try:\n",
    "    result = 10 / 0\n",
    "except ZeroDivisionError:\n",
    "    print(\"Error: Cannot divide by zero\")"
   ]
  },
  {
   "cell_type": "code",
   "execution_count": 17,
   "id": "4f2ac06b-240c-48e8-a9e6-af24c740adad",
   "metadata": {},
   "outputs": [],
   "source": [
    "try:\n",
    "    result = 2 ** 10000\n",
    "except OverflowError:\n",
    "    print(\"Error: Arithmetic operation resulted in overflow\")"
   ]
  },
  {
   "cell_type": "code",
   "execution_count": null,
   "id": "07a4dafd-a4eb-44de-a518-6e4fdbb7e78f",
   "metadata": {},
   "outputs": [],
   "source": [
    "\"\"\"\n",
    "Q4. Why LookupError class is used? Explain with an example KeyError and IndexError.\n",
    "\n",
    "Ans.The LookupError class in Python is used as a base class for exceptions that occur when a lookup or indexing operation fails. It serves \n",
    "    as a parent class for specific lookup-related exceptions, such as KeyError and IndexError.\n",
    "\"\"\""
   ]
  },
  {
   "cell_type": "code",
   "execution_count": 19,
   "id": "cec4c5e3-ceaf-40a0-8e50-45631dd502f3",
   "metadata": {},
   "outputs": [
    {
     "name": "stdout",
     "output_type": "stream",
     "text": [
      "Error: Key not found in dictionary\n"
     ]
    }
   ],
   "source": [
    "#Example of KeyError :\n",
    "a = {'name': 'Avnish', 'age': 20}\n",
    "\n",
    "try:\n",
    "    print(a['number'])\n",
    "except KeyError:\n",
    "    print(\"Error: Key not found in dictionary\")"
   ]
  },
  {
   "cell_type": "code",
   "execution_count": 21,
   "id": "ebdcd5b9-4874-4a47-86b1-b16f675c8f5d",
   "metadata": {},
   "outputs": [
    {
     "name": "stdout",
     "output_type": "stream",
     "text": [
      "list index out of range\n"
     ]
    }
   ],
   "source": [
    "#Example of IndexError\n",
    "l = [1, 2, 3]\n",
    "\n",
    "try:\n",
    "    print(l[5])\n",
    "except IndexError as e:\n",
    "    print(e)"
   ]
  },
  {
   "cell_type": "code",
   "execution_count": 24,
   "id": "c3bca246-d159-4474-844a-525334b53b20",
   "metadata": {},
   "outputs": [
    {
     "name": "stdout",
     "output_type": "stream",
     "text": [
      "No module named 'Avnish'\n"
     ]
    }
   ],
   "source": [
    "\"\"\"\n",
    "Q5. Explain ImportError. What is ModuleNotFoundError?\n",
    "\n",
    "Ans.ImportError is an exception that is raised when an import statement fails to import a module or when a module is not found. It is a \n",
    "    base class for various import-related exceptions in Python.\n",
    "    \n",
    "    When an import statement encounters an issue, such as a missing or inaccessible module, it raises an ImportError to indicate the \n",
    "    failure. This can occur due to reasons such as a typo in the module name, a module not installed or not available in the current \n",
    "    environment, or a problem with the module's code itself.\n",
    "    \n",
    "    ModuleNotFoundError is a subclass of ImportError that specifically indicates that a module could not be found. It was introduced \n",
    "    in Python 3.6 to provide more precise information about module-related import errors.\n",
    "\"\"\"\n",
    "try:\n",
    "    import Avnish\n",
    "except ImportError as e :\n",
    "    print(e)"
   ]
  },
  {
   "cell_type": "code",
   "execution_count": 25,
   "id": "ecef7a4a-d6f3-4fc3-939f-a71267633a1a",
   "metadata": {},
   "outputs": [
    {
     "name": "stdout",
     "output_type": "stream",
     "text": [
      "No module named 'Avnish_Rai'\n"
     ]
    }
   ],
   "source": [
    "try:\n",
    "    import Avnish_Rai\n",
    "except ModuleNotFoundError as e :\n",
    "    print(e)"
   ]
  },
  {
   "cell_type": "code",
   "execution_count": null,
   "id": "e3b9c265-fff5-4660-b299-e32afdd5e70e",
   "metadata": {},
   "outputs": [],
   "source": [
    "\"\"\"\n",
    "Q6. List down some best practices for exception handling in python.\n",
    "\n",
    "Ans.Some best practices for exception handling in python :\n",
    "\n",
    "  1)Be Specific in Exception Handling \n",
    "  2)Use Multiple Except Blocks \n",
    "  3)Avoid Bare Except Blocks \n",
    "  4)Use Finally Blocks Reraise Exceptions \n",
    "  5)Handle Exceptions Locally  \n",
    "  6)Provide Clear and Informative Error Messages  \n",
    "  7)Use Custom Exceptions\n",
    "  8)Log Exceptions  \n",
    "  9)Test Exception Handling \n",
    "  \n",
    "\"\"\""
   ]
  }
 ],
 "metadata": {
  "kernelspec": {
   "display_name": "Python 3 (ipykernel)",
   "language": "python",
   "name": "python3"
  },
  "language_info": {
   "codemirror_mode": {
    "name": "ipython",
    "version": 3
   },
   "file_extension": ".py",
   "mimetype": "text/x-python",
   "name": "python",
   "nbconvert_exporter": "python",
   "pygments_lexer": "ipython3",
   "version": "3.10.8"
  }
 },
 "nbformat": 4,
 "nbformat_minor": 5
}
