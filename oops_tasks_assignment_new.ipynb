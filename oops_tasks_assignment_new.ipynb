{
 "cells": [
  {
   "cell_type": "code",
   "execution_count": 2,
   "id": "024cf8d3-06aa-4894-b775-b06c07a8c6b6",
   "metadata": {},
   "outputs": [],
   "source": [
    "\"\"\"\n",
    "Q1, Create a vehicle class with an init method having instance variables as name_of_vehicle, max_speed\n",
    "and average_of_vehicle.\n",
    "\"\"\"\n",
    "\n",
    "class vehicle :\n",
    "    \n",
    "    def __init__(self,name_of_vehicle, max_speed, average_of_vehicle) :\n",
    "        self.name_of_vehicle = name_of_vehicle\n",
    "        self.max_speed = max_speed\n",
    "        self.average_of_vehicle = average_of_vehicle"
   ]
  },
  {
   "cell_type": "code",
   "execution_count": 6,
   "id": "e609385f-5666-4b7b-aaef-c1e10882ccf1",
   "metadata": {},
   "outputs": [],
   "source": [
    "\"\"\"\n",
    "Q2. Create a child class car from the vehicle class created in Que 1, which will inherit the vehicle class.\n",
    "Create a method named seating_capacity which takes capacity as an argument and returns the name of\n",
    "the vehicle and its seating capacity.\n",
    "\"\"\"\n",
    "class vehicle :\n",
    "    \n",
    "    def __init__(self,name_of_vehicle, max_speed, average_of_vehicle) :\n",
    "        self.name_of_vehicle = name_of_vehicle\n",
    "        self.max_speed = max_speed\n",
    "        self.average_of_vehicle = average_of_vehicle\n",
    "        \n",
    "        \n",
    "class car(vehicle):\n",
    "    \n",
    "    def seating_capacity(self, capacity) :\n",
    "        return self.name_of_vehicle, self.seating_capacity\n"
   ]
  },
  {
   "cell_type": "code",
   "execution_count": 7,
   "id": "96039845-59ac-4436-b3ba-4386c11e1636",
   "metadata": {},
   "outputs": [
    {
     "name": "stdout",
     "output_type": "stream",
     "text": [
      "My name is Avnish\n",
      "My full name is Avnish Rai\n"
     ]
    }
   ],
   "source": [
    "\"\"\"\n",
    "Q3. What is multiple inheritance? Write a python code to demonstrate multiple inheritance.\n",
    "Ans. Multiple inheritance is a feature in object-oriented programming languages where a class can inherit attributes and methods from more than one \n",
    "     parent class. This means that a child class can have multiple parent classes, and it can inherit and access their attributes and methods.\n",
    "\"\"\"\n",
    "\n",
    "class class1 :\n",
    "    \n",
    "    def test_class1(self) :\n",
    "        return \"My name is Avnish\"\n",
    "\n",
    "class class2 :\n",
    "    def test_class2(self) :\n",
    "        return \"My full name is Avnish Rai\"\n",
    "    \n",
    "class combine_class(class1, class2) :\n",
    "    pass\n",
    "\n",
    "final_class = combine_class()\n",
    "\n",
    "print(final_class.test_class1())\n",
    "print(final_class.test_class2())"
   ]
  },
  {
   "cell_type": "code",
   "execution_count": 18,
   "id": "202f9274-067a-427a-8c92-c63ef867840f",
   "metadata": {},
   "outputs": [
    {
     "name": "stdout",
     "output_type": "stream",
     "text": [
      "XYZ Name\n",
      "Avnish Rai\n"
     ]
    }
   ],
   "source": [
    "\"\"\"\n",
    "Q4. What are getter and setter in python? Create a class and create a getter and a setter method in this class.\n",
    "Ans. In Python, getters and setters are methods used to access and modify the values of private attributes of a class. They provide a way to \n",
    "     encapsulate theaccess and modification of class attributes, allowing controlled access to the attributes and ensuring data integrity.\n",
    "\"\"\"\n",
    "class Person :\n",
    "    \n",
    "    def __init__(self, person_name) :\n",
    "        self.__person_name = person_name\n",
    "        \n",
    "    \n",
    "    def get_person_name(self) :\n",
    "        return self.__person_name\n",
    "    \n",
    "    def set_person_name(self, person_name) :\n",
    "        self.__person_name = person_name\n",
    "        \n",
    "\n",
    "person = Person(\"XYZ Name\")\n",
    "\n",
    "print(person.get_person_name())\n",
    "\n",
    "person.set_person_name(\"Avnish Rai\")\n",
    "\n",
    "print(person.get_person_name())"
   ]
  },
  {
   "cell_type": "code",
   "execution_count": 26,
   "id": "73055490-8331-4a1c-9800-f693964488f6",
   "metadata": {},
   "outputs": [
    {
     "name": "stdout",
     "output_type": "stream",
     "text": [
      "Animal Voice\n",
      "Meow Meow\n",
      "Woff Woff\n"
     ]
    }
   ],
   "source": [
    "\"\"\"\n",
    "Q5.What is method overriding in python? Write a python code to demonstrate method overriding.\n",
    "Ans. Method overriding in Python occurs when a subclass defines a method with the same name as a method in its superclass. The method in the subclass \n",
    "     overrides the implementation of the method in the superclass, allowing the subclass to provide its own implementation of the method.\n",
    "\"\"\"\n",
    "\n",
    "class Animal :\n",
    "    \n",
    "    def voice(self):\n",
    "        print(\"Animal Voice\")\n",
    "\n",
    "class Dog(Animal) :\n",
    "    \n",
    "    def voice(self) :\n",
    "        print(\"Woff Woff\")\n",
    "        \n",
    "class Cat(Animal) :\n",
    "    \n",
    "    def voice(self) :\n",
    "        print(\"Meow Meow\")\n",
    "        \n",
    "animals = Animal()\n",
    "cat = Cat()\n",
    "dog = Dog()\n",
    "\n",
    "animals.voice()\n",
    "cat.voice()\n",
    "dog.voice()"
   ]
  },
  {
   "cell_type": "code",
   "execution_count": null,
   "id": "59d7bb99-f0f8-444c-9224-6f417bea418a",
   "metadata": {},
   "outputs": [],
   "source": []
  }
 ],
 "metadata": {
  "kernelspec": {
   "display_name": "Python 3 (ipykernel)",
   "language": "python",
   "name": "python3"
  },
  "language_info": {
   "codemirror_mode": {
    "name": "ipython",
    "version": 3
   },
   "file_extension": ".py",
   "mimetype": "text/x-python",
   "name": "python",
   "nbconvert_exporter": "python",
   "pygments_lexer": "ipython3",
   "version": "3.10.8"
  }
 },
 "nbformat": 4,
 "nbformat_minor": 5
}
